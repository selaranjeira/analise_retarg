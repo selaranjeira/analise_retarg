{
 "cells": [
  {
   "cell_type": "code",
   "execution_count": 4,
   "metadata": {},
   "outputs": [],
   "source": [
    "import pandas as pd\n",
    "import numpy as np\n",
    "import datetime\n",
    "from dateutil.relativedelta import relativedelta\n",
    "from datetime import date\n",
    "import matplotlib.pyplot as plt\n",
    "import matplotlib.ticker as mticker\n",
    "# import seaborn as sns"
   ]
  },
  {
   "cell_type": "code",
   "execution_count": 5,
   "metadata": {},
   "outputs": [
    {
     "name": "stdout",
     "output_type": "stream",
     "text": [
      "The sql extension is already loaded. To reload it, use:\n",
      "  %reload_ext sql\n"
     ]
    }
   ],
   "source": [
    "%load_ext sql"
   ]
  },
  {
   "cell_type": "code",
   "execution_count": 6,
   "metadata": {},
   "outputs": [],
   "source": [
    "%sql sqlite:////home/selaranjeira/Desktop/hurb_python/rawDataInstallInappEventsPur/dados/rawDataInstallInappEventsPur.db"
   ]
  },
  {
   "cell_type": "code",
   "execution_count": null,
   "metadata": {},
   "outputs": [],
   "source": [
    "# somatorio de cada MEDIA SOURCE"
   ]
  },
  {
   "cell_type": "code",
   "execution_count": 14,
   "metadata": {},
   "outputs": [
    {
     "name": "stdout",
     "output_type": "stream",
     "text": [
      " * sqlite:////home/selaranjeira/Desktop/hurb_python/rawDataInstallInappEventsPur/dados/rawDataInstallInappEventsPur.db\n",
      "Done.\n"
     ]
    }
   ],
   "source": [
    "# %sql\n",
    "mediaSource_total = %sql SELECT count(MediaSource) as qde, MediaSource FROM concat_hu_non_org_inapp_events GROUP by MediaSource ORDER by qde DESC;\n",
    "df_MS_total = mediaSource_total.DataFrame()"
   ]
  },
  {
   "cell_type": "code",
   "execution_count": 16,
   "metadata": {},
   "outputs": [
    {
     "data": {
      "text/html": [
       "<div>\n",
       "<style scoped>\n",
       "    .dataframe tbody tr th:only-of-type {\n",
       "        vertical-align: middle;\n",
       "    }\n",
       "\n",
       "    .dataframe tbody tr th {\n",
       "        vertical-align: top;\n",
       "    }\n",
       "\n",
       "    .dataframe thead th {\n",
       "        text-align: right;\n",
       "    }\n",
       "</style>\n",
       "<table border=\"1\" class=\"dataframe\">\n",
       "  <thead>\n",
       "    <tr style=\"text-align: right;\">\n",
       "      <th></th>\n",
       "      <th>qde</th>\n",
       "      <th>MediaSource</th>\n",
       "    </tr>\n",
       "  </thead>\n",
       "  <tbody>\n",
       "    <tr>\n",
       "      <th>0</th>\n",
       "      <td>2963</td>\n",
       "      <td>googleadwords_int</td>\n",
       "    </tr>\n",
       "    <tr>\n",
       "      <th>1</th>\n",
       "      <td>1204</td>\n",
       "      <td>bannerfullhomesitem</td>\n",
       "    </tr>\n",
       "    <tr>\n",
       "      <th>2</th>\n",
       "      <td>287</td>\n",
       "      <td>rodapesitem</td>\n",
       "    </tr>\n",
       "    <tr>\n",
       "      <th>3</th>\n",
       "      <td>90</td>\n",
       "      <td>E-mail Confirmação de Compra</td>\n",
       "    </tr>\n",
       "    <tr>\n",
       "      <th>4</th>\n",
       "      <td>71</td>\n",
       "      <td>MenuLateralSiteM</td>\n",
       "    </tr>\n",
       "    <tr>\n",
       "      <th>5</th>\n",
       "      <td>63</td>\n",
       "      <td>Email</td>\n",
       "    </tr>\n",
       "    <tr>\n",
       "      <th>6</th>\n",
       "      <td>37</td>\n",
       "      <td>E-mail</td>\n",
       "    </tr>\n",
       "    <tr>\n",
       "      <th>7</th>\n",
       "      <td>34</td>\n",
       "      <td>Whatsapp Newsletter</td>\n",
       "    </tr>\n",
       "    <tr>\n",
       "      <th>8</th>\n",
       "      <td>18</td>\n",
       "      <td>Site</td>\n",
       "    </tr>\n",
       "    <tr>\n",
       "      <th>9</th>\n",
       "      <td>15</td>\n",
       "      <td>Zendesk</td>\n",
       "    </tr>\n",
       "  </tbody>\n",
       "</table>\n",
       "</div>"
      ],
      "text/plain": [
       "    qde                   MediaSource\n",
       "0  2963             googleadwords_int\n",
       "1  1204           bannerfullhomesitem\n",
       "2   287                   rodapesitem\n",
       "3    90  E-mail Confirmação de Compra\n",
       "4    71              MenuLateralSiteM\n",
       "5    63                         Email\n",
       "6    37                        E-mail\n",
       "7    34           Whatsapp Newsletter\n",
       "8    18                          Site\n",
       "9    15                       Zendesk"
      ]
     },
     "execution_count": 16,
     "metadata": {},
     "output_type": "execute_result"
    }
   ],
   "source": [
    "df_MS_total.head(10)"
   ]
  },
  {
   "cell_type": "code",
   "execution_count": null,
   "metadata": {},
   "outputs": [],
   "source": []
  },
  {
   "cell_type": "markdown",
   "metadata": {},
   "source": [
    "#### tabela rodapesitem"
   ]
  },
  {
   "cell_type": "code",
   "execution_count": 10,
   "metadata": {},
   "outputs": [
    {
     "name": "stdout",
     "output_type": "stream",
     "text": [
      " * sqlite:////home/selaranjeira/Desktop/hurb_python/rawDataInstallInappEventsPur/dados/rawDataInstallInappEventsPur.db\n",
      "Done.\n"
     ]
    }
   ],
   "source": [
    "result_rodapesite_m = %sql SELECT *, CAST(julianday(EventTime) - julianday(InstallTime) AS INT) as diff_days FROM concat_hu_non_org_inapp_events WHERE MediaSource = 'rodapesitem' ORDER BY diff_days;\n",
    "df_rodape = result_rodapesite_m.DataFrame()"
   ]
  },
  {
   "cell_type": "code",
   "execution_count": 11,
   "metadata": {
    "collapsed": true,
    "jupyter": {
     "outputs_hidden": true
    }
   },
   "outputs": [
    {
     "data": {
      "text/html": [
       "<div>\n",
       "<style scoped>\n",
       "    .dataframe tbody tr th:only-of-type {\n",
       "        vertical-align: middle;\n",
       "    }\n",
       "\n",
       "    .dataframe tbody tr th {\n",
       "        vertical-align: top;\n",
       "    }\n",
       "\n",
       "    .dataframe thead th {\n",
       "        text-align: right;\n",
       "    }\n",
       "</style>\n",
       "<table border=\"1\" class=\"dataframe\">\n",
       "  <thead>\n",
       "    <tr style=\"text-align: right;\">\n",
       "      <th></th>\n",
       "      <th>AttributedTouchType</th>\n",
       "      <th>AttributedTouchTime</th>\n",
       "      <th>InstallTime</th>\n",
       "      <th>EventTime</th>\n",
       "      <th>EventValue</th>\n",
       "      <th>EventRevenue</th>\n",
       "      <th>MediaSource</th>\n",
       "      <th>Campaign</th>\n",
       "      <th>Region</th>\n",
       "      <th>State</th>\n",
       "      <th>City</th>\n",
       "      <th>AdvertisingID</th>\n",
       "      <th>IsRetargeting</th>\n",
       "      <th>IsPrimaryAttribution</th>\n",
       "      <th>diff_days</th>\n",
       "    </tr>\n",
       "  </thead>\n",
       "  <tbody>\n",
       "    <tr>\n",
       "      <th>0</th>\n",
       "      <td>click</td>\n",
       "      <td>2020-05-28 18:06:47</td>\n",
       "      <td>2020-05-28 18:08:37</td>\n",
       "      <td>2020-05-28 18:15:05</td>\n",
       "      <td>{\"af_currency\":\"BRL\",\"af_revenue\":1198,\"af_pri...</td>\n",
       "      <td>1198.00</td>\n",
       "      <td>rodapesitem</td>\n",
       "      <td>None</td>\n",
       "      <td>SA</td>\n",
       "      <td>RJ</td>\n",
       "      <td>Rio De Janeiro</td>\n",
       "      <td>49f48fd5-d792-4d36-b461-9f7707da187e</td>\n",
       "      <td>0</td>\n",
       "      <td>1</td>\n",
       "      <td>0</td>\n",
       "    </tr>\n",
       "    <tr>\n",
       "      <th>1</th>\n",
       "      <td>click</td>\n",
       "      <td>2020-05-28 15:22:48</td>\n",
       "      <td>2020-05-28 15:24:48</td>\n",
       "      <td>2020-05-28 15:51:20</td>\n",
       "      <td>{\"af_currency\":\"USD\",\"af_revenue\":90.64,\"af_pr...</td>\n",
       "      <td>90.64</td>\n",
       "      <td>rodapesitem</td>\n",
       "      <td>None</td>\n",
       "      <td>None</td>\n",
       "      <td>AZ</td>\n",
       "      <td>Phoenix</td>\n",
       "      <td>2622a6ef-bda6-49c0-b37d-136719d72411</td>\n",
       "      <td>0</td>\n",
       "      <td>1</td>\n",
       "      <td>0</td>\n",
       "    </tr>\n",
       "    <tr>\n",
       "      <th>2</th>\n",
       "      <td>click</td>\n",
       "      <td>2020-05-26 15:53:17</td>\n",
       "      <td>2020-05-26 15:53:54</td>\n",
       "      <td>2020-05-26 15:59:39</td>\n",
       "      <td>{\"af_currency\":\"USD\",\"af_revenue\":122.22,\"af_p...</td>\n",
       "      <td>122.22</td>\n",
       "      <td>rodapesitem</td>\n",
       "      <td>None</td>\n",
       "      <td>None</td>\n",
       "      <td>FL</td>\n",
       "      <td>Kissimmee</td>\n",
       "      <td>e2a5612c-6603-401d-993a-67c09b9dad4c</td>\n",
       "      <td>0</td>\n",
       "      <td>1</td>\n",
       "      <td>0</td>\n",
       "    </tr>\n",
       "    <tr>\n",
       "      <th>3</th>\n",
       "      <td>click</td>\n",
       "      <td>2020-05-25 21:37:13</td>\n",
       "      <td>2020-05-25 21:41:35</td>\n",
       "      <td>2020-05-26 12:12:03</td>\n",
       "      <td>{\"af_price\":168.13,\"af_content_id\":\"OMN-1859\",...</td>\n",
       "      <td>168.13</td>\n",
       "      <td>rodapesitem</td>\n",
       "      <td>None</td>\n",
       "      <td>SA</td>\n",
       "      <td>RS</td>\n",
       "      <td>Novo Hamburgo</td>\n",
       "      <td>70918141-25a4-4c0c-9437-5e36f9ef6f7a</td>\n",
       "      <td>0</td>\n",
       "      <td>1</td>\n",
       "      <td>0</td>\n",
       "    </tr>\n",
       "    <tr>\n",
       "      <th>4</th>\n",
       "      <td>click</td>\n",
       "      <td>2020-05-24 14:48:42</td>\n",
       "      <td>2020-05-24 14:50:33</td>\n",
       "      <td>2020-05-24 14:55:25</td>\n",
       "      <td>{\"af_currency\":\"BRL\",\"af_revenue\":3118,\"af_pri...</td>\n",
       "      <td>3118.00</td>\n",
       "      <td>rodapesitem</td>\n",
       "      <td>None</td>\n",
       "      <td>SA</td>\n",
       "      <td>SP</td>\n",
       "      <td>Sao Jose Dos Campos</td>\n",
       "      <td>25a26312-e438-4fb3-9cbc-57309a9705fd</td>\n",
       "      <td>0</td>\n",
       "      <td>1</td>\n",
       "      <td>0</td>\n",
       "    </tr>\n",
       "  </tbody>\n",
       "</table>\n",
       "</div>"
      ],
      "text/plain": [
       "  AttributedTouchType  AttributedTouchTime          InstallTime  \\\n",
       "0               click  2020-05-28 18:06:47  2020-05-28 18:08:37   \n",
       "1               click  2020-05-28 15:22:48  2020-05-28 15:24:48   \n",
       "2               click  2020-05-26 15:53:17  2020-05-26 15:53:54   \n",
       "3               click  2020-05-25 21:37:13  2020-05-25 21:41:35   \n",
       "4               click  2020-05-24 14:48:42  2020-05-24 14:50:33   \n",
       "\n",
       "             EventTime                                         EventValue  \\\n",
       "0  2020-05-28 18:15:05  {\"af_currency\":\"BRL\",\"af_revenue\":1198,\"af_pri...   \n",
       "1  2020-05-28 15:51:20  {\"af_currency\":\"USD\",\"af_revenue\":90.64,\"af_pr...   \n",
       "2  2020-05-26 15:59:39  {\"af_currency\":\"USD\",\"af_revenue\":122.22,\"af_p...   \n",
       "3  2020-05-26 12:12:03  {\"af_price\":168.13,\"af_content_id\":\"OMN-1859\",...   \n",
       "4  2020-05-24 14:55:25  {\"af_currency\":\"BRL\",\"af_revenue\":3118,\"af_pri...   \n",
       "\n",
       "   EventRevenue  MediaSource Campaign Region State                 City  \\\n",
       "0       1198.00  rodapesitem     None     SA    RJ       Rio De Janeiro   \n",
       "1         90.64  rodapesitem     None   None    AZ              Phoenix   \n",
       "2        122.22  rodapesitem     None   None    FL            Kissimmee   \n",
       "3        168.13  rodapesitem     None     SA    RS        Novo Hamburgo   \n",
       "4       3118.00  rodapesitem     None     SA    SP  Sao Jose Dos Campos   \n",
       "\n",
       "                          AdvertisingID  IsRetargeting  IsPrimaryAttribution  \\\n",
       "0  49f48fd5-d792-4d36-b461-9f7707da187e              0                     1   \n",
       "1  2622a6ef-bda6-49c0-b37d-136719d72411              0                     1   \n",
       "2  e2a5612c-6603-401d-993a-67c09b9dad4c              0                     1   \n",
       "3  70918141-25a4-4c0c-9437-5e36f9ef6f7a              0                     1   \n",
       "4  25a26312-e438-4fb3-9cbc-57309a9705fd              0                     1   \n",
       "\n",
       "   diff_days  \n",
       "0          0  \n",
       "1          0  \n",
       "2          0  \n",
       "3          0  \n",
       "4          0  "
      ]
     },
     "execution_count": 11,
     "metadata": {},
     "output_type": "execute_result"
    }
   ],
   "source": [
    "df_rodape.head()"
   ]
  },
  {
   "cell_type": "code",
   "execution_count": 12,
   "metadata": {},
   "outputs": [],
   "source": [
    "# df_rodape.to_csv(\n",
    "#     '/home/selaranjeira/Desktop/hurb_python/rawDataInstallInappEventsPur/dados/rodapefullsitem.csv',\n",
    "#     index=False)"
   ]
  },
  {
   "cell_type": "markdown",
   "metadata": {},
   "source": [
    "#### tabela banner"
   ]
  },
  {
   "cell_type": "code",
   "execution_count": 10,
   "metadata": {},
   "outputs": [
    {
     "name": "stdout",
     "output_type": "stream",
     "text": [
      " * sqlite:////home/selaranjeira/Desktop/hurb_python/rawDataInstallInappEventsPur/dados/rawDataInstallInappEventsPur.db\n",
      "Done.\n"
     ]
    }
   ],
   "source": [
    "result_banner = %sql SELECT *, CAST(julianday(EventTime) - julianday(InstallTime) AS INT) as diff_days FROM concat_hu_non_org_inapp_events WHERE MediaSource = 'bannerfullhomesitem' ORDER BY diff_days;\n",
    "df_banner = result_banner.DataFrame()"
   ]
  },
  {
   "cell_type": "code",
   "execution_count": 11,
   "metadata": {
    "collapsed": true,
    "jupyter": {
     "outputs_hidden": true
    }
   },
   "outputs": [
    {
     "data": {
      "text/html": [
       "<div>\n",
       "<style scoped>\n",
       "    .dataframe tbody tr th:only-of-type {\n",
       "        vertical-align: middle;\n",
       "    }\n",
       "\n",
       "    .dataframe tbody tr th {\n",
       "        vertical-align: top;\n",
       "    }\n",
       "\n",
       "    .dataframe thead th {\n",
       "        text-align: right;\n",
       "    }\n",
       "</style>\n",
       "<table border=\"1\" class=\"dataframe\">\n",
       "  <thead>\n",
       "    <tr style=\"text-align: right;\">\n",
       "      <th></th>\n",
       "      <th>AttributedTouchType</th>\n",
       "      <th>AttributedTouchTime</th>\n",
       "      <th>InstallTime</th>\n",
       "      <th>EventTime</th>\n",
       "      <th>EventValue</th>\n",
       "      <th>EventRevenue</th>\n",
       "      <th>MediaSource</th>\n",
       "      <th>Campaign</th>\n",
       "      <th>Region</th>\n",
       "      <th>State</th>\n",
       "      <th>City</th>\n",
       "      <th>AdvertisingID</th>\n",
       "      <th>IsRetargeting</th>\n",
       "      <th>IsPrimaryAttribution</th>\n",
       "      <th>diff_days</th>\n",
       "    </tr>\n",
       "  </thead>\n",
       "  <tbody>\n",
       "    <tr>\n",
       "      <th>0</th>\n",
       "      <td>click</td>\n",
       "      <td>2020-05-31 16:30:33</td>\n",
       "      <td>2020-05-31 16:37:36</td>\n",
       "      <td>2020-05-31 16:52:29</td>\n",
       "      <td>{\"af_price\":1239,\"af_content_id\":\"LGPKG-872787...</td>\n",
       "      <td>1239.00</td>\n",
       "      <td>bannerfullhomesitem</td>\n",
       "      <td>None</td>\n",
       "      <td>SA</td>\n",
       "      <td>PI</td>\n",
       "      <td>Teresina</td>\n",
       "      <td>f3f941a5-31ce-4096-9b3a-14ff679e9214</td>\n",
       "      <td>0</td>\n",
       "      <td>1</td>\n",
       "      <td>0</td>\n",
       "    </tr>\n",
       "    <tr>\n",
       "      <th>1</th>\n",
       "      <td>click</td>\n",
       "      <td>2020-05-31 10:29:40</td>\n",
       "      <td>2020-05-31 10:31:24</td>\n",
       "      <td>2020-05-31 11:44:01</td>\n",
       "      <td>{\"af_currency\":\"BRL\",\"af_revenue\":128.8,\"af_pr...</td>\n",
       "      <td>128.80</td>\n",
       "      <td>bannerfullhomesitem</td>\n",
       "      <td>None</td>\n",
       "      <td>SA</td>\n",
       "      <td>RJ</td>\n",
       "      <td>Rio De Janeiro</td>\n",
       "      <td>b9720f01-a9d3-4034-8b5a-bbf0b2ad3db0</td>\n",
       "      <td>0</td>\n",
       "      <td>1</td>\n",
       "      <td>0</td>\n",
       "    </tr>\n",
       "    <tr>\n",
       "      <th>2</th>\n",
       "      <td>click</td>\n",
       "      <td>2020-05-30 23:14:18</td>\n",
       "      <td>2020-05-30 23:20:58</td>\n",
       "      <td>2020-05-30 23:36:29</td>\n",
       "      <td>{\"af_currency\":\"BRL\",\"af_revenue\":789.52,\"af_p...</td>\n",
       "      <td>789.52</td>\n",
       "      <td>bannerfullhomesitem</td>\n",
       "      <td>None</td>\n",
       "      <td>SA</td>\n",
       "      <td>AP</td>\n",
       "      <td>Pracuuba</td>\n",
       "      <td>4c29825f-ebdb-4a32-bc67-75b38d0a6d10</td>\n",
       "      <td>0</td>\n",
       "      <td>1</td>\n",
       "      <td>0</td>\n",
       "    </tr>\n",
       "    <tr>\n",
       "      <th>3</th>\n",
       "      <td>click</td>\n",
       "      <td>2020-05-30 20:58:13</td>\n",
       "      <td>2020-05-30 20:58:45</td>\n",
       "      <td>2020-05-30 21:49:43</td>\n",
       "      <td>{\"af_currency\":\"BRL\",\"af_revenue\":699,\"af_pric...</td>\n",
       "      <td>699.00</td>\n",
       "      <td>bannerfullhomesitem</td>\n",
       "      <td>None</td>\n",
       "      <td>SA</td>\n",
       "      <td>MS</td>\n",
       "      <td>Campo Grande</td>\n",
       "      <td>4a6b0825-7f97-45b3-a919-b062fdf7d8ec</td>\n",
       "      <td>0</td>\n",
       "      <td>1</td>\n",
       "      <td>0</td>\n",
       "    </tr>\n",
       "    <tr>\n",
       "      <th>4</th>\n",
       "      <td>click</td>\n",
       "      <td>2020-05-30 20:58:13</td>\n",
       "      <td>2020-05-30 20:58:45</td>\n",
       "      <td>2020-05-30 21:36:51</td>\n",
       "      <td>{\"af_currency\":\"BRL\",\"af_revenue\":1398,\"af_pri...</td>\n",
       "      <td>1398.00</td>\n",
       "      <td>bannerfullhomesitem</td>\n",
       "      <td>None</td>\n",
       "      <td>SA</td>\n",
       "      <td>MS</td>\n",
       "      <td>Campo Grande</td>\n",
       "      <td>4a6b0825-7f97-45b3-a919-b062fdf7d8ec</td>\n",
       "      <td>0</td>\n",
       "      <td>1</td>\n",
       "      <td>0</td>\n",
       "    </tr>\n",
       "  </tbody>\n",
       "</table>\n",
       "</div>"
      ],
      "text/plain": [
       "  AttributedTouchType  AttributedTouchTime          InstallTime  \\\n",
       "0               click  2020-05-31 16:30:33  2020-05-31 16:37:36   \n",
       "1               click  2020-05-31 10:29:40  2020-05-31 10:31:24   \n",
       "2               click  2020-05-30 23:14:18  2020-05-30 23:20:58   \n",
       "3               click  2020-05-30 20:58:13  2020-05-30 20:58:45   \n",
       "4               click  2020-05-30 20:58:13  2020-05-30 20:58:45   \n",
       "\n",
       "             EventTime                                         EventValue  \\\n",
       "0  2020-05-31 16:52:29  {\"af_price\":1239,\"af_content_id\":\"LGPKG-872787...   \n",
       "1  2020-05-31 11:44:01  {\"af_currency\":\"BRL\",\"af_revenue\":128.8,\"af_pr...   \n",
       "2  2020-05-30 23:36:29  {\"af_currency\":\"BRL\",\"af_revenue\":789.52,\"af_p...   \n",
       "3  2020-05-30 21:49:43  {\"af_currency\":\"BRL\",\"af_revenue\":699,\"af_pric...   \n",
       "4  2020-05-30 21:36:51  {\"af_currency\":\"BRL\",\"af_revenue\":1398,\"af_pri...   \n",
       "\n",
       "   EventRevenue          MediaSource Campaign Region State            City  \\\n",
       "0       1239.00  bannerfullhomesitem     None     SA    PI        Teresina   \n",
       "1        128.80  bannerfullhomesitem     None     SA    RJ  Rio De Janeiro   \n",
       "2        789.52  bannerfullhomesitem     None     SA    AP        Pracuuba   \n",
       "3        699.00  bannerfullhomesitem     None     SA    MS    Campo Grande   \n",
       "4       1398.00  bannerfullhomesitem     None     SA    MS    Campo Grande   \n",
       "\n",
       "                          AdvertisingID  IsRetargeting  IsPrimaryAttribution  \\\n",
       "0  f3f941a5-31ce-4096-9b3a-14ff679e9214              0                     1   \n",
       "1  b9720f01-a9d3-4034-8b5a-bbf0b2ad3db0              0                     1   \n",
       "2  4c29825f-ebdb-4a32-bc67-75b38d0a6d10              0                     1   \n",
       "3  4a6b0825-7f97-45b3-a919-b062fdf7d8ec              0                     1   \n",
       "4  4a6b0825-7f97-45b3-a919-b062fdf7d8ec              0                     1   \n",
       "\n",
       "   diff_days  \n",
       "0          0  \n",
       "1          0  \n",
       "2          0  \n",
       "3          0  \n",
       "4          0  "
      ]
     },
     "execution_count": 11,
     "metadata": {},
     "output_type": "execute_result"
    }
   ],
   "source": [
    "# df_banner.head()"
   ]
  },
  {
   "cell_type": "code",
   "execution_count": 13,
   "metadata": {},
   "outputs": [],
   "source": [
    "# df_banner.to_csv(\n",
    "#     '/home/selaranjeira/Desktop/hurb_python/rawDataInstallInappEventsPur/dados/bannerfullhomesitem.csv',\n",
    "#     index=False)"
   ]
  },
  {
   "cell_type": "markdown",
   "metadata": {},
   "source": [
    "### tabela googleads"
   ]
  },
  {
   "cell_type": "code",
   "execution_count": 8,
   "metadata": {},
   "outputs": [
    {
     "name": "stdout",
     "output_type": "stream",
     "text": [
      " * sqlite:////home/selaranjeira/Desktop/hurb_python/rawDataInstallInappEventsPur/dados/rawDataInstallInappEventsPur.db\n",
      "Done.\n"
     ]
    }
   ],
   "source": [
    "# result = %sql SELECT * FROM concat_hu_non_org_inapp_events WHERE IsPrimaryAttribution = '1' and MediaSource = 'googleadwords_int';\n",
    "# df_no_ret_googleads = result.DataFrame()"
   ]
  },
  {
   "cell_type": "code",
   "execution_count": 5,
   "metadata": {},
   "outputs": [
    {
     "name": "stdout",
     "output_type": "stream",
     "text": [
      " * sqlite:////home/selaranjeira/Desktop/hurb_python/rawDataInstallInappEventsPur/dados/rawDataInstallInappEventsPur.db\n",
      "Done.\n"
     ]
    }
   ],
   "source": [
    "result1 = %sql SELECT * FROM concat_hu_non_org_inapp_events WHERE IsPrimaryAttribution = '0' and MediaSource = 'googleadwords_int';\n",
    "df_yes_ret_googleads = result1.DataFrame()"
   ]
  },
  {
   "cell_type": "markdown",
   "metadata": {},
   "source": [
    "## Testando"
   ]
  },
  {
   "cell_type": "code",
   "execution_count": 7,
   "metadata": {},
   "outputs": [],
   "source": [
    "# df_no_ret_googleads['EventTime'] = pd.to_datetime(df_no_ret_googleads['EventTime'])\n",
    "# df_no_ret_googleads.sort_values(by=['EventTime'], inplace=True, ascending=True)"
   ]
  },
  {
   "cell_type": "code",
   "execution_count": 9,
   "metadata": {},
   "outputs": [],
   "source": [
    "# df_yes_ret_googleads['EventTime'] = pd.to_datetime(df_yes_ret_googleads['EventTime'])\n",
    "# df_yes_ret_googleads.sort_values(by=['EventTime'], inplace=True, ascending=True)"
   ]
  },
  {
   "cell_type": "code",
   "execution_count": 11,
   "metadata": {},
   "outputs": [],
   "source": [
    "# sns.scatterplot(x='EventTime', y='EventRevenue', data=df_yes_ret_googleads)\n",
    "# plt.show()"
   ]
  },
  {
   "cell_type": "code",
   "execution_count": 12,
   "metadata": {},
   "outputs": [
    {
     "data": {
      "text/plain": [
       "<matplotlib.axes._subplots.AxesSubplot at 0x7f9355ed1588>"
      ]
     },
     "execution_count": 12,
     "metadata": {},
     "output_type": "execute_result"
    },
    {
     "data": {
      "image/png": "[encoded data removed]",
      "text/plain": [
       "<Figure size 432x288 with 1 Axes>"
      ]
     },
     "metadata": {
      "needs_background": "light"
     },
     "output_type": "display_data"
    }
   ],
   "source": [
    "# df_yes_ret_googleads['EventRevenue'].hist(bins=100, grid=True)"
   ]
  },
  {
   "cell_type": "code",
   "execution_count": 13,
   "metadata": {},
   "outputs": [
    {
     "data": {
      "text/plain": [
       "Text(0, 0.5, 'Frequency')"
      ]
     },
     "execution_count": 13,
     "metadata": {},
     "output_type": "execute_result"
    },
    {
     "data": {
      "image/png": "[encoded data removed]",
      "text/plain": [
       "<Figure size 432x288 with 1 Axes>"
      ]
     },
     "metadata": {
      "needs_background": "light"
     },
     "output_type": "display_data"
    }
   ],
   "source": [
    "# df_no_ret_googleads['EventRevenue'].hist(bins=100, grid=True)\n",
    "# plt.title('sem impacto de retarg', fontsize=18)\n",
    "# plt.xlabel('Life Exp (years)', fontsize=16)\n",
    "# plt.ylabel('Frequency', fontsize=16)"
   ]
  },
  {
   "cell_type": "code",
   "execution_count": 14,
   "metadata": {},
   "outputs": [
    {
     "data": {
      "text/plain": [
       "<matplotlib.axes._subplots.AxesSubplot at 0x7f9353543f28>"
      ]
     },
     "execution_count": 14,
     "metadata": {},
     "output_type": "execute_result"
    },
    {
     "data": {
      "image/png": "[encoded data removed]",
      "text/plain": [
       "<Figure size 432x288 with 1 Axes>"
      ]
     },
     "metadata": {
      "needs_background": "light"
     },
     "output_type": "display_data"
    }
   ],
   "source": [
    "# sns.distplot(df_yes_ret_googleads['EventRevenue'])\n",
    "# sns.distplot(df_no_ret_googleads['EventRevenue'])"
   ]
  },
  {
   "cell_type": "code",
   "execution_count": 15,
   "metadata": {},
   "outputs": [
    {
     "data": {
      "text/plain": [
       "Text(0, 0.5, 'rev')"
      ]
     },
     "execution_count": 15,
     "metadata": {},
     "output_type": "execute_result"
    },
    {
     "data": {
      "image/png": "[encoded data removed]",
      "text/plain": [
       "<Figure size 432x288 with 1 Axes>"
      ]
     },
     "metadata": {
      "needs_background": "light"
     },
     "output_type": "display_data"
    }
   ],
   "source": [
    "# #df = df_yes_ret_googleads[df_yes_ret_googleads.EventRevenue == 'retarg_google_ads']\n",
    "# sns.distplot(df_yes_ret_googleads['EventRevenue'], hist = False, kde = True, label='retarg_google_ads')\n",
    "# #df = df_no_ret_googleads[df_no_ret_googleads.EventRevenue == 'no_ret_google_ads']\n",
    "# sns.distplot(df_no_ret_googleads['EventRevenue'], hist = False, kde = True, label='no_ret_google_ads')\n",
    "# # Plot formatting\n",
    "# plt.legend(prop={'size': 12})\n",
    "# plt.title('teste')\n",
    "# plt.xlabel('x')\n",
    "# plt.ylabel('rev')  "
   ]
  },
  {
   "cell_type": "code",
   "execution_count": 16,
   "metadata": {
    "collapsed": true,
    "jupyter": {
     "outputs_hidden": true
    }
   },
   "outputs": [
    {
     "data": {
      "image/png": "[encoded data removed]",
      "text/plain": [
       "<Figure size 1080x576 with 1 Axes>"
      ]
     },
     "metadata": {
      "needs_background": "light"
     },
     "output_type": "display_data"
    }
   ],
   "source": [
    "# # plot\n",
    "# fig, ax = plt.subplots(figsize=(8, 4))\n",
    "# plt.bar(df_yes_ret_googleads['EventTime'], df_yes_ret_googleads['EventRevenue'], color = 'orange', alpha = 0.4)\n",
    "# plt.bar(df_no_ret_googleads['EventTime'], df_no_ret_googleads['EventRevenue'], color = 'b', alpha = 0.4)\n",
    "# # ticklabels = ['']*len(df_yes_ret_googleads)\n",
    "# # skip = len(df_yes_ret_googleads)//12\n",
    "# # ticklabels[::skip] = df_yes_ret_googleads['EventTime'].iloc[::skip].dt.strftime('%Y-%m-%d')\n",
    "# # ax.xaxis.set_major_formatter(mticker.FixedFormatter(ticklabels))\n",
    "# # fig.autofmt_xdate()\n",
    "# # fig.suptitle('evolu_rec_retarg')\n",
    "# plt.xlabel('periodo')\n",
    "# plt.ylabel('retarg_receita')\n",
    "# plt.grid()"
   ]
  },
  {
   "cell_type": "code",
   "execution_count": 25,
   "metadata": {},
   "outputs": [],
   "source": [
    "# df_yes_ret_googleads.set_index('EventTime')['EventRevenue'].plot(kind='bar', figsize=(19, 10), color='cadetblue', rot=45)\n",
    "# plt.show()\n",
    "\n",
    "# plt.title(\"Historical Count of Passengers Per Month\", y=1.013, fontsize=22)\n",
    "# plt.ylabel(\"Count [Passengers]\", labelpad=16)\n",
    "# plt.xlabel(\"Date [Month - Year]\", labelpad=16)\n",
    "\n",
    "# sns.jointplot(x=\"EventTime\", y=\"EventRevenue\", data=df_yes_ret_googleads)"
   ]
  },
  {
   "cell_type": "code",
   "execution_count": 26,
   "metadata": {
    "collapsed": true,
    "jupyter": {
     "outputs_hidden": true
    }
   },
   "outputs": [
    {
     "name": "stdout",
     "output_type": "stream",
     "text": [
      "<class 'pandas.core.frame.DataFrame'>\n",
      "Int64Index: 1468 entries, 455 to 1176\n",
      "Data columns (total 14 columns):\n",
      " #   Column                Non-Null Count  Dtype         \n",
      "---  ------                --------------  -----         \n",
      " 0   AttributedTouchType   1468 non-null   object        \n",
      " 1   AttributedTouchTime   1468 non-null   object        \n",
      " 2   InstallTime           1468 non-null   object        \n",
      " 3   EventTime             1468 non-null   datetime64[ns]\n",
      " 4   EventValue            1468 non-null   object        \n",
      " 5   EventRevenue          1468 non-null   float64       \n",
      " 6   MediaSource           1468 non-null   object        \n",
      " 7   Campaign              1468 non-null   object        \n",
      " 8   Region                1466 non-null   object        \n",
      " 9   State                 1468 non-null   object        \n",
      " 10  City                  1468 non-null   object        \n",
      " 11  AdvertisingID         1468 non-null   object        \n",
      " 12  IsRetargeting         1468 non-null   int64         \n",
      " 13  IsPrimaryAttribution  1468 non-null   int64         \n",
      "dtypes: datetime64[ns](1), float64(1), int64(2), object(10)\n",
      "memory usage: 172.0+ KB\n"
     ]
    }
   ],
   "source": [
    "# df_yes_ret_googleads.info()"
   ]
  },
  {
   "cell_type": "code",
   "execution_count": null,
   "metadata": {},
   "outputs": [],
   "source": []
  }
 ],
 "metadata": {
  "kernelspec": {
   "display_name": "Python 3.8.2 64-bit ('python3': conda)",
   "language": "python",
   "name": "python38264bitpython3conda1e1f1b3ef0154b8c9a150143e5792d1e"
  },
  "language_info": {
   "codemirror_mode": {
    "name": "ipython",
    "version": 3
   },
   "file_extension": ".py",
   "mimetype": "text/x-python",
   "name": "python",
   "nbconvert_exporter": "python",
   "pygments_lexer": "ipython3",
   "version": "3.6.10"
  }
 },
 "nbformat": 4,
 "nbformat_minor": 4
}
